{
  "cells": [
    {
      "cell_type": "markdown",
      "id": "51cd5ab9",
      "metadata": {
        "id": "51cd5ab9"
      },
      "source": [
        "## Transfer Learning implementation on Dementia Dataset using VGG 16"
      ]
    },
    {
      "cell_type": "code",
      "execution_count": 3,
      "id": "c1af04a8",
      "metadata": {
        "id": "c1af04a8"
      },
      "outputs": [],
      "source": [
        "import numpy as np\n",
        "import tensorflow as tf\n",
        "from tensorflow.keras import datasets, layers, models\n",
        "import matplotlib.pyplot as plt\n",
        "from sklearn import metrics\n",
        "from sklearn.model_selection import train_test_split\n",
        "import cv2 as cv\n",
        "import os, sys"
      ]
    },
    {
      "cell_type": "markdown",
      "id": "B2S57iYAq4Hz",
      "metadata": {
        "id": "B2S57iYAq4Hz"
      },
      "source": [
        "# **Dataset Preparation**"
      ]
    },
    {
      "cell_type": "markdown",
      "id": "f7cdb862",
      "metadata": {
        "id": "f7cdb862"
      },
      "source": [
        "For every file\n",
        "\n",
        "1. Read the image\n",
        "2. Resize to (224,224)\n",
        "4. Preprocessing: Normalization\n",
        "5. Reshape to (224,224,3)\n",
        "6. Create the dataset"
      ]
    },
    {
      "cell_type": "code",
      "execution_count": 9,
      "id": "a821ed6a",
      "metadata": {
        "id": "a821ed6a"
      },
      "outputs": [],
      "source": [
        "path1='Alzheimer Dataset/NonDemented'\n",
        "path2='Alzheimer Dataset/MildDemented'\n",
        "path3='Alzheimer Dataset/ModerateDemented'\n",
        "files1=os.listdir(path1)\n",
        "files2=os.listdir(path2)\n",
        "files3=os.listdir(path3)\n",
        "Num_files_N=len(files1)\n",
        "Num_files_MD=len(files2)\n",
        "Num_files_D=len(files3)\n",
        "dataset_len=Num_files_N+Num_files_MD+Num_files_D"
      ]
    },
    {
      "cell_type": "code",
      "execution_count": 10,
      "id": "2ead1101",
      "metadata": {
        "colab": {
          "base_uri": "https://localhost:8080/"
        },
        "id": "2ead1101",
        "outputId": "ec35f4ff-59d7-4918-ef16-0b60b74124a0"
      },
      "outputs": [
        {
          "data": {
            "text/plain": [
              "(253, 224, 224, 3)"
            ]
          },
          "execution_count": 10,
          "metadata": {},
          "output_type": "execute_result"
        }
      ],
      "source": [
        "data=np.zeros((dataset_len,224,224,3))\n",
        "label=[]\n",
        "data.shape"
      ]
    },
    {
      "cell_type": "code",
      "execution_count": 11,
      "id": "24314cc2",
      "metadata": {
        "id": "24314cc2"
      },
      "outputs": [],
      "source": [
        "for i in range(Num_files_N):\n",
        "    name=path1+'/'+files1[i]\n",
        "    img=cv.imread(name)\n",
        "    img_gs=cv.resize(img,(224,224))\n",
        "    img_gs=img_gs/255\n",
        "    img_gs=img_gs.reshape(224,224,3)\n",
        "    data[i,:,:]=img_gs\n",
        "    label.append('Normal')\n"
      ]
    },
    {
      "cell_type": "code",
      "execution_count": 12,
      "id": "b32b0be4",
      "metadata": {
        "collapsed": true,
        "id": "b32b0be4"
      },
      "outputs": [
        {
          "data": {
            "text/plain": [
              "<matplotlib.image.AxesImage at 0x2ef18732050>"
            ]
          },
          "execution_count": 12,
          "metadata": {},
          "output_type": "execute_result"
        },
        {
          "data": {
            "image/png": "[encoded data removed]",
            "text/plain": [
              "<Figure size 640x480 with 1 Axes>"
            ]
          },
          "metadata": {},
          "output_type": "display_data"
        }
      ],
      "source": [
        "plt.imshow(data[100],cmap='gray')"
      ]
    },
    {
      "cell_type": "code",
      "execution_count": 13,
      "id": "YhCjXaqDxY6n",
      "metadata": {
        "id": "YhCjXaqDxY6n"
      },
      "outputs": [],
      "source": [
        "for i in range(Num_files_MD):\n",
        "    name=path2+'/'+files2[i]\n",
        "    img=cv.imread(name)\n",
        "    img_gs=cv.resize(img,(224,224))\n",
        "    img_gs=img_gs/255\n",
        "    img_gs=img_gs.reshape(224,224,3)\n",
        "    data[i+Num_files_N,:,:]=img_gs\n",
        "    label.append('Mild Dementia')"
      ]
    },
    {
      "cell_type": "code",
      "execution_count": 14,
      "id": "b9df95c2",
      "metadata": {
        "id": "b9df95c2"
      },
      "outputs": [],
      "source": [
        "for i in range(Num_files_D):\n",
        "    name=path3+'/'+files3[i]\n",
        "    img=cv.imread(name)\n",
        "    img_gs=cv.resize(img,(224,224))\n",
        "    img_gs=img_gs/255\n",
        "    img_gs=img_gs.reshape(224,224,3)\n",
        "    data[i+Num_files_N+Num_files_MD,:,:]=img_gs\n",
        "    label.append('Dementia')\n"
      ]
    },
    {
      "cell_type": "code",
      "execution_count": 15,
      "id": "04c95186",
      "metadata": {
        "id": "04c95186"
      },
      "outputs": [
        {
          "data": {
            "text/plain": [
              "<matplotlib.image.AxesImage at 0x2ef1a81cc10>"
            ]
          },
          "execution_count": 15,
          "metadata": {},
          "output_type": "execute_result"
        },
        {
          "data": {
            "image/png": "[encoded data removed]",
            "text/plain": [
              "<Figure size 640x480 with 1 Axes>"
            ]
          },
          "metadata": {},
          "output_type": "display_data"
        }
      ],
      "source": [
        "plt.imshow(data[100],cmap='gray')"
      ]
    },
    {
      "cell_type": "markdown",
      "id": "a0ee2e56",
      "metadata": {
        "id": "a0ee2e56"
      },
      "source": [
        "Label Encoding"
      ]
    },
    {
      "cell_type": "code",
      "execution_count": 16,
      "id": "ab8c94e7",
      "metadata": {
        "id": "ab8c94e7"
      },
      "outputs": [],
      "source": [
        "from sklearn.preprocessing import LabelEncoder\n",
        "le=LabelEncoder()\n",
        "lab=le.fit_transform(label)"
      ]
    },
    {
      "cell_type": "markdown",
      "id": "3536af9f",
      "metadata": {
        "id": "3536af9f"
      },
      "source": [
        "Train and test dataset spilt"
      ]
    },
    {
      "cell_type": "code",
      "execution_count": 17,
      "id": "0e55f94c",
      "metadata": {
        "id": "0e55f94c"
      },
      "outputs": [],
      "source": [
        "train_images,test_images,train_labels,test_labels=train_test_split(data,lab,test_size=0.2,random_state=1)"
      ]
    },
    {
      "cell_type": "code",
      "execution_count": 18,
      "id": "001342f9",
      "metadata": {
        "colab": {
          "base_uri": "https://localhost:8080/"
        },
        "id": "001342f9",
        "outputId": "364b82b8-d7d2-4536-a8b4-eb44c5610129"
      },
      "outputs": [
        {
          "name": "stdout",
          "output_type": "stream",
          "text": [
            "Train Dataset Size: 202\n",
            "Test Dataset Size: 51\n"
          ]
        }
      ],
      "source": [
        "print('Train Dataset Size:',np.size(train_labels))\n",
        "print('Test Dataset Size:',np.size(test_labels))"
      ]
    },
    {
      "cell_type": "markdown",
      "id": "33a6d409",
      "metadata": {
        "id": "33a6d409"
      },
      "source": [
        "# Define the VGG-16 Net"
      ]
    },
    {
      "cell_type": "markdown",
      "id": "noJiMK96sCpl",
      "metadata": {
        "id": "noJiMK96sCpl"
      },
      "source": [
        "**Import VGG16 network**"
      ]
    },
    {
      "cell_type": "code",
      "execution_count": 19,
      "id": "01322894",
      "metadata": {
        "id": "01322894"
      },
      "outputs": [],
      "source": [
        "from tensorflow.keras.applications.vgg16 import VGG16, preprocess_input\n"
      ]
    },
    {
      "cell_type": "markdown",
      "id": "862iPcAEsVSm",
      "metadata": {
        "id": "862iPcAEsVSm"
      },
      "source": [
        "Load the vgg16 base model\n",
        "\n",
        "Freeze the convolutional base and fine tune only the classifier"
      ]
    },
    {
      "cell_type": "code",
      "execution_count": 20,
      "id": "57sHg3cPP4jn",
      "metadata": {
        "colab": {
          "base_uri": "https://localhost:8080/"
        },
        "id": "57sHg3cPP4jn",
        "outputId": "39e629e9-25e8-4e91-dc33-d1bee323b492"
      },
      "outputs": [
        {
          "name": "stdout",
          "output_type": "stream",
          "text": [
            "Downloading data from https://storage.googleapis.com/tensorflow/keras-applications/vgg16/vgg16_weights_tf_dim_ordering_tf_kernels_notop.h5\n",
            "58889256/58889256 [==============================] - 5s 0us/step\n"
          ]
        }
      ],
      "source": [
        "base_model=VGG16(weights='imagenet',include_top=False,input_shape=train_images[0].shape)\n",
        "#base_model=VGG16(weights='imagenet',include_top=True)\n",
        "base_model.trainable=False"
      ]
    },
    {
      "cell_type": "markdown",
      "id": "0fa63e7a",
      "metadata": {
        "id": "0fa63e7a"
      },
      "source": [
        "Check summary of convolutional base"
      ]
    },
    {
      "cell_type": "code",
      "execution_count": 21,
      "id": "0e8ac882",
      "metadata": {
        "id": "0e8ac882"
      },
      "outputs": [],
      "source": [
        "train_ds=tf.image.resize(train_images,(224,224))\n",
        "test_ds=tf.image.resize(test_images,(224,224))"
      ]
    },
    {
      "cell_type": "markdown",
      "id": "7e49eab1",
      "metadata": {
        "id": "7e49eab1"
      },
      "source": [
        "Build the classifier on top of the convolutional base"
      ]
    },
    {
      "cell_type": "code",
      "execution_count": 22,
      "id": "99a58d24",
      "metadata": {
        "id": "99a58d24"
      },
      "outputs": [],
      "source": [
        "train_ds=preprocess_input(train_images)\n",
        "test_ds=preprocess_input(test_images)"
      ]
    },
    {
      "cell_type": "code",
      "execution_count": 23,
      "id": "6ae38a51",
      "metadata": {
        "id": "6ae38a51"
      },
      "outputs": [
        {
          "name": "stdout",
          "output_type": "stream",
          "text": [
            "Model: \"vgg16\"\n",
            "_________________________________________________________________\n",
            " Layer (type)                Output Shape              Param #   \n",
            "=================================================================\n",
            " input_1 (InputLayer)        [(None, 224, 224, 3)]     0         \n",
            "                                                                 \n",
            " block1_conv1 (Conv2D)       (None, 224, 224, 64)      1792      \n",
            "                                                                 \n",
            " block1_conv2 (Conv2D)       (None, 224, 224, 64)      36928     \n",
            "                                                                 \n",
            " block1_pool (MaxPooling2D)  (None, 112, 112, 64)      0         \n",
            "                                                                 \n",
            " block2_conv1 (Conv2D)       (None, 112, 112, 128)     73856     \n",
            "                                                                 \n",
            " block2_conv2 (Conv2D)       (None, 112, 112, 128)     147584    \n",
            "                                                                 \n",
            " block2_pool (MaxPooling2D)  (None, 56, 56, 128)       0         \n",
            "                                                                 \n",
            " block3_conv1 (Conv2D)       (None, 56, 56, 256)       295168    \n",
            "                                                                 \n",
            " block3_conv2 (Conv2D)       (None, 56, 56, 256)       590080    \n",
            "                                                                 \n",
            " block3_conv3 (Conv2D)       (None, 56, 56, 256)       590080    \n",
            "                                                                 \n",
            " block3_pool (MaxPooling2D)  (None, 28, 28, 256)       0         \n",
            "                                                                 \n",
            " block4_conv1 (Conv2D)       (None, 28, 28, 512)       1180160   \n",
            "                                                                 \n",
            " block4_conv2 (Conv2D)       (None, 28, 28, 512)       2359808   \n",
            "                                                                 \n",
            " block4_conv3 (Conv2D)       (None, 28, 28, 512)       2359808   \n",
            "                                                                 \n",
            " block4_pool (MaxPooling2D)  (None, 14, 14, 512)       0         \n",
            "                                                                 \n",
            " block5_conv1 (Conv2D)       (None, 14, 14, 512)       2359808   \n",
            "                                                                 \n",
            " block5_conv2 (Conv2D)       (None, 14, 14, 512)       2359808   \n",
            "                                                                 \n",
            " block5_conv3 (Conv2D)       (None, 14, 14, 512)       2359808   \n",
            "                                                                 \n",
            " block5_pool (MaxPooling2D)  (None, 7, 7, 512)         0         \n",
            "                                                                 \n",
            "=================================================================\n",
            "Total params: 14,714,688\n",
            "Trainable params: 0\n",
            "Non-trainable params: 14,714,688\n",
            "_________________________________________________________________\n"
          ]
        }
      ],
      "source": [
        "base_model.summary()"
      ]
    },
    {
      "cell_type": "code",
      "execution_count": 24,
      "id": "sHazk_8oTDDu",
      "metadata": {
        "id": "sHazk_8oTDDu"
      },
      "outputs": [],
      "source": [
        "from tensorflow.keras import layers, models"
      ]
    },
    {
      "cell_type": "code",
      "execution_count": 25,
      "id": "FJxNID1VTGMM",
      "metadata": {
        "id": "FJxNID1VTGMM"
      },
      "outputs": [],
      "source": [
        "flatten_layer=layers.Flatten()\n",
        "dense_1=layers.Dense(50,activation='relu')\n",
        "dense_2=layers.Dense(20,activation='relu')\n",
        "pred_layer=layers.Dense(3,activation='softmax')"
      ]
    },
    {
      "cell_type": "code",
      "execution_count": 26,
      "id": "voJ8UlLXTKz6",
      "metadata": {
        "id": "voJ8UlLXTKz6"
      },
      "outputs": [],
      "source": [
        "networks=models.Sequential([\n",
        "    base_model,\n",
        "    flatten_layer,\n",
        "    dense_1,\n",
        "    dense_2,\n",
        "    pred_layer\n",
        "])"
      ]
    },
    {
      "cell_type": "code",
      "execution_count": 27,
      "id": "RhQoIbTeTOUA",
      "metadata": {
        "colab": {
          "base_uri": "https://localhost:8080/"
        },
        "id": "RhQoIbTeTOUA",
        "outputId": "33eb09c2-493f-4e3c-e09e-f5ddb6843961"
      },
      "outputs": [
        {
          "name": "stdout",
          "output_type": "stream",
          "text": [
            "Model: \"sequential\"\n",
            "_________________________________________________________________\n",
            " Layer (type)                Output Shape              Param #   \n",
            "=================================================================\n",
            " vgg16 (Functional)          (None, 7, 7, 512)         14714688  \n",
            "                                                                 \n",
            " flatten (Flatten)           (None, 25088)             0         \n",
            "                                                                 \n",
            " dense (Dense)               (None, 50)                1254450   \n",
            "                                                                 \n",
            " dense_1 (Dense)             (None, 20)                1020      \n",
            "                                                                 \n",
            " dense_2 (Dense)             (None, 3)                 63        \n",
            "                                                                 \n",
            "=================================================================\n",
            "Total params: 15,970,221\n",
            "Trainable params: 1,255,533\n",
            "Non-trainable params: 14,714,688\n",
            "_________________________________________________________________\n"
          ]
        }
      ],
      "source": [
        "networks.summary()"
      ]
    },
    {
      "cell_type": "code",
      "execution_count": 28,
      "id": "_220VGP9TV3c",
      "metadata": {
        "id": "_220VGP9TV3c"
      },
      "outputs": [],
      "source": [
        "networks.compile(optimizer='adam',\n",
        "             loss='sparse_categorical_crossentropy',\n",
        "              metrics=['accuracy'],\n",
        "             )"
      ]
    },
    {
      "cell_type": "code",
      "execution_count": 29,
      "id": "6otK3zt6TZVx",
      "metadata": {
        "id": "6otK3zt6TZVx"
      },
      "outputs": [
        {
          "name": "stdout",
          "output_type": "stream",
          "text": [
            "Epoch 1/100\n",
            "4/4 [==============================] - 11s 2s/step - loss: 2.4816 - accuracy: 0.2624 - val_loss: 1.3544 - val_accuracy: 0.2549\n",
            "Epoch 2/100\n",
            "4/4 [==============================] - 9s 2s/step - loss: 1.2220 - accuracy: 0.2970 - val_loss: 1.2028 - val_accuracy: 0.2941\n",
            "Epoch 3/100\n",
            "4/4 [==============================] - 10s 2s/step - loss: 1.0998 - accuracy: 0.4307 - val_loss: 1.0804 - val_accuracy: 0.4510\n",
            "Epoch 4/100\n",
            "4/4 [==============================] - 10s 3s/step - loss: 1.0609 - accuracy: 0.3861 - val_loss: 1.1000 - val_accuracy: 0.2941\n",
            "Epoch 5/100\n",
            "4/4 [==============================] - 10s 3s/step - loss: 1.0509 - accuracy: 0.4059 - val_loss: 1.1047 - val_accuracy: 0.3137\n",
            "Epoch 6/100\n",
            "4/4 [==============================] - 10s 2s/step - loss: 1.0571 - accuracy: 0.4208 - val_loss: 1.1378 - val_accuracy: 0.2941\n",
            "Epoch 7/100\n",
            "4/4 [==============================] - 16s 4s/step - loss: 1.0551 - accuracy: 0.3713 - val_loss: 1.0813 - val_accuracy: 0.4510\n",
            "Epoch 8/100\n",
            "4/4 [==============================] - 28s 7s/step - loss: 1.0581 - accuracy: 0.3812 - val_loss: 1.0997 - val_accuracy: 0.2941\n",
            "Epoch 9/100\n",
            "4/4 [==============================] - 28s 7s/step - loss: 1.0481 - accuracy: 0.4257 - val_loss: 1.0985 - val_accuracy: 0.2941\n",
            "Epoch 10/100\n",
            "4/4 [==============================] - 10s 2s/step - loss: 1.0475 - accuracy: 0.4307 - val_loss: 1.0660 - val_accuracy: 0.4510\n",
            "Epoch 11/100\n",
            "4/4 [==============================] - 10s 2s/step - loss: 1.0700 - accuracy: 0.3812 - val_loss: 1.1672 - val_accuracy: 0.2941\n",
            "Epoch 12/100\n",
            "4/4 [==============================] - 10s 2s/step - loss: 1.0870 - accuracy: 0.4257 - val_loss: 1.1834 - val_accuracy: 0.2941\n",
            "Epoch 13/100\n",
            "4/4 [==============================] - 10s 2s/step - loss: 1.0587 - accuracy: 0.4257 - val_loss: 1.0640 - val_accuracy: 0.4510\n",
            "Epoch 14/100\n",
            "4/4 [==============================] - 10s 2s/step - loss: 1.0891 - accuracy: 0.3812 - val_loss: 1.1108 - val_accuracy: 0.2941\n",
            "Epoch 15/100\n",
            "4/4 [==============================] - 10s 2s/step - loss: 1.0578 - accuracy: 0.4257 - val_loss: 1.0847 - val_accuracy: 0.4510\n",
            "Epoch 16/100\n",
            "4/4 [==============================] - 20s 6s/step - loss: 1.0813 - accuracy: 0.3812 - val_loss: 1.0702 - val_accuracy: 0.4510\n",
            "Epoch 17/100\n",
            "4/4 [==============================] - 28s 7s/step - loss: 1.0930 - accuracy: 0.3614 - val_loss: 1.1711 - val_accuracy: 0.2941\n",
            "Epoch 18/100\n",
            "4/4 [==============================] - 19s 4s/step - loss: 1.0408 - accuracy: 0.4406 - val_loss: 1.0649 - val_accuracy: 0.4510\n",
            "Epoch 19/100\n",
            "4/4 [==============================] - 10s 2s/step - loss: 1.0955 - accuracy: 0.3614 - val_loss: 1.0775 - val_accuracy: 0.4706\n",
            "Epoch 20/100\n",
            "4/4 [==============================] - 10s 2s/step - loss: 1.0447 - accuracy: 0.4010 - val_loss: 1.0927 - val_accuracy: 0.5490\n",
            "Epoch 21/100\n",
            "4/4 [==============================] - 10s 2s/step - loss: 1.0433 - accuracy: 0.5297 - val_loss: 1.0934 - val_accuracy: 0.2941\n",
            "Epoch 22/100\n",
            "4/4 [==============================] - 10s 2s/step - loss: 1.0464 - accuracy: 0.4059 - val_loss: 1.1188 - val_accuracy: 0.2941\n",
            "Epoch 23/100\n",
            "4/4 [==============================] - 10s 2s/step - loss: 1.0730 - accuracy: 0.4257 - val_loss: 1.1368 - val_accuracy: 0.2941\n",
            "Epoch 24/100\n",
            "4/4 [==============================] - 10s 2s/step - loss: 1.0357 - accuracy: 0.4901 - val_loss: 1.0651 - val_accuracy: 0.4510\n",
            "Epoch 25/100\n",
            "4/4 [==============================] - 10s 2s/step - loss: 1.0693 - accuracy: 0.3812 - val_loss: 1.0817 - val_accuracy: 0.4706\n",
            "Epoch 26/100\n",
            "4/4 [==============================] - 10s 2s/step - loss: 1.0431 - accuracy: 0.3861 - val_loss: 1.0854 - val_accuracy: 0.2941\n",
            "Epoch 27/100\n",
            "4/4 [==============================] - 10s 2s/step - loss: 1.0352 - accuracy: 0.4950 - val_loss: 1.0707 - val_accuracy: 0.5098\n",
            "Epoch 28/100\n",
            "4/4 [==============================] - 10s 2s/step - loss: 1.0388 - accuracy: 0.4406 - val_loss: 1.1092 - val_accuracy: 0.2941\n",
            "Epoch 29/100\n",
            "4/4 [==============================] - 11s 3s/step - loss: 1.0371 - accuracy: 0.4257 - val_loss: 1.0885 - val_accuracy: 0.2941\n",
            "Epoch 30/100\n",
            "4/4 [==============================] - 10s 2s/step - loss: 1.0374 - accuracy: 0.4257 - val_loss: 1.0745 - val_accuracy: 0.4706\n",
            "Epoch 31/100\n",
            "4/4 [==============================] - 10s 3s/step - loss: 1.0401 - accuracy: 0.4307 - val_loss: 1.0631 - val_accuracy: 0.4510\n",
            "Epoch 32/100\n",
            "4/4 [==============================] - 11s 3s/step - loss: 1.0370 - accuracy: 0.4505 - val_loss: 1.1103 - val_accuracy: 0.2941\n",
            "Epoch 33/100\n",
            "4/4 [==============================] - 10s 2s/step - loss: 1.0430 - accuracy: 0.4257 - val_loss: 1.1064 - val_accuracy: 0.2941\n",
            "Epoch 34/100\n",
            "4/4 [==============================] - 10s 2s/step - loss: 1.0320 - accuracy: 0.4257 - val_loss: 1.0701 - val_accuracy: 0.4510\n",
            "Epoch 35/100\n",
            "4/4 [==============================] - 10s 3s/step - loss: 1.0419 - accuracy: 0.4158 - val_loss: 1.0736 - val_accuracy: 0.4510\n",
            "Epoch 36/100\n",
            "4/4 [==============================] - 10s 2s/step - loss: 1.0477 - accuracy: 0.3911 - val_loss: 1.1146 - val_accuracy: 0.2941\n",
            "Epoch 37/100\n",
            "4/4 [==============================] - 10s 3s/step - loss: 1.0462 - accuracy: 0.4257 - val_loss: 1.0770 - val_accuracy: 0.5686\n",
            "Epoch 38/100\n",
            "4/4 [==============================] - 10s 2s/step - loss: 1.0874 - accuracy: 0.4505 - val_loss: 1.0641 - val_accuracy: 0.5098\n",
            "Epoch 39/100\n",
            "4/4 [==============================] - 10s 2s/step - loss: 1.0892 - accuracy: 0.4257 - val_loss: 1.1800 - val_accuracy: 0.2941\n",
            "Epoch 40/100\n",
            "4/4 [==============================] - 10s 3s/step - loss: 1.0953 - accuracy: 0.3762 - val_loss: 1.0520 - val_accuracy: 0.4510\n",
            "Epoch 41/100\n",
            "4/4 [==============================] - 10s 2s/step - loss: 1.0502 - accuracy: 0.3960 - val_loss: 1.2024 - val_accuracy: 0.2941\n",
            "Epoch 42/100\n",
            "4/4 [==============================] - 10s 2s/step - loss: 1.0678 - accuracy: 0.4257 - val_loss: 1.0556 - val_accuracy: 0.4510\n",
            "Epoch 43/100\n",
            "4/4 [==============================] - 10s 3s/step - loss: 1.1052 - accuracy: 0.3812 - val_loss: 1.0714 - val_accuracy: 0.3529\n",
            "Epoch 44/100\n",
            "4/4 [==============================] - 11s 3s/step - loss: 1.0791 - accuracy: 0.4307 - val_loss: 1.2186 - val_accuracy: 0.2941\n",
            "Epoch 45/100\n",
            "4/4 [==============================] - 13s 3s/step - loss: 1.0611 - accuracy: 0.4307 - val_loss: 1.0477 - val_accuracy: 0.4510\n",
            "Epoch 46/100\n",
            "4/4 [==============================] - 14s 4s/step - loss: 1.0529 - accuracy: 0.3812 - val_loss: 1.1141 - val_accuracy: 0.2941\n",
            "Epoch 47/100\n",
            "4/4 [==============================] - 13s 3s/step - loss: 1.0958 - accuracy: 0.4257 - val_loss: 1.2196 - val_accuracy: 0.2941\n",
            "Epoch 48/100\n",
            "4/4 [==============================] - 11s 3s/step - loss: 1.0449 - accuracy: 0.4505 - val_loss: 1.0631 - val_accuracy: 0.4510\n",
            "Epoch 49/100\n",
            "4/4 [==============================] - 10s 3s/step - loss: 1.0986 - accuracy: 0.3812 - val_loss: 1.0570 - val_accuracy: 0.4510\n",
            "Epoch 50/100\n",
            "4/4 [==============================] - 10s 3s/step - loss: 1.0226 - accuracy: 0.4455 - val_loss: 1.2004 - val_accuracy: 0.2941\n",
            "Epoch 51/100\n",
            "4/4 [==============================] - 10s 2s/step - loss: 1.0493 - accuracy: 0.4257 - val_loss: 1.0521 - val_accuracy: 0.4510\n",
            "Epoch 52/100\n",
            "4/4 [==============================] - 10s 3s/step - loss: 1.0803 - accuracy: 0.3812 - val_loss: 1.0679 - val_accuracy: 0.4510\n",
            "Epoch 53/100\n",
            "4/4 [==============================] - 10s 3s/step - loss: 1.0648 - accuracy: 0.3960 - val_loss: 1.2206 - val_accuracy: 0.2941\n",
            "Epoch 54/100\n",
            "4/4 [==============================] - 11s 3s/step - loss: 1.0416 - accuracy: 0.4851 - val_loss: 1.0457 - val_accuracy: 0.4510\n",
            "Epoch 55/100\n",
            "4/4 [==============================] - 10s 3s/step - loss: 1.0650 - accuracy: 0.3812 - val_loss: 1.0712 - val_accuracy: 0.2941\n",
            "Epoch 56/100\n",
            "4/4 [==============================] - 10s 2s/step - loss: 1.0444 - accuracy: 0.4257 - val_loss: 1.1729 - val_accuracy: 0.2941\n",
            "Epoch 57/100\n",
            "4/4 [==============================] - 10s 2s/step - loss: 1.0496 - accuracy: 0.4257 - val_loss: 1.0533 - val_accuracy: 0.5294\n",
            "Epoch 58/100\n",
            "4/4 [==============================] - 11s 3s/step - loss: 1.0391 - accuracy: 0.4554 - val_loss: 1.0499 - val_accuracy: 0.4902\n",
            "Epoch 59/100\n",
            "4/4 [==============================] - 10s 2s/step - loss: 1.0364 - accuracy: 0.4059 - val_loss: 1.0653 - val_accuracy: 0.4902\n",
            "Epoch 60/100\n",
            "4/4 [==============================] - 10s 2s/step - loss: 1.0206 - accuracy: 0.5149 - val_loss: 1.1302 - val_accuracy: 0.2941\n",
            "Epoch 61/100\n",
            "4/4 [==============================] - 10s 2s/step - loss: 1.0357 - accuracy: 0.4257 - val_loss: 1.0673 - val_accuracy: 0.5490\n",
            "Epoch 62/100\n",
            "4/4 [==============================] - 10s 2s/step - loss: 1.0304 - accuracy: 0.4307 - val_loss: 1.0429 - val_accuracy: 0.4706\n",
            "Epoch 63/100\n",
            "4/4 [==============================] - 10s 2s/step - loss: 1.0223 - accuracy: 0.4950 - val_loss: 1.1249 - val_accuracy: 0.2941\n",
            "Epoch 64/100\n",
            "4/4 [==============================] - 10s 2s/step - loss: 1.0421 - accuracy: 0.4257 - val_loss: 1.0536 - val_accuracy: 0.5882\n",
            "Epoch 65/100\n",
            "4/4 [==============================] - 10s 2s/step - loss: 1.0668 - accuracy: 0.4010 - val_loss: 1.0471 - val_accuracy: 0.4902\n",
            "Epoch 66/100\n",
            "4/4 [==============================] - 10s 2s/step - loss: 1.0477 - accuracy: 0.3960 - val_loss: 1.1632 - val_accuracy: 0.2941\n",
            "Epoch 67/100\n",
            "4/4 [==============================] - 10s 2s/step - loss: 1.0788 - accuracy: 0.3713 - val_loss: 1.0419 - val_accuracy: 0.4510\n",
            "Epoch 68/100\n",
            "4/4 [==============================] - 10s 3s/step - loss: 1.0208 - accuracy: 0.4455 - val_loss: 1.1836 - val_accuracy: 0.2941\n",
            "Epoch 69/100\n",
            "4/4 [==============================] - 10s 2s/step - loss: 1.0531 - accuracy: 0.4257 - val_loss: 1.0547 - val_accuracy: 0.5294\n",
            "Epoch 70/100\n",
            "4/4 [==============================] - 10s 2s/step - loss: 1.0379 - accuracy: 0.4505 - val_loss: 1.0328 - val_accuracy: 0.4510\n",
            "Epoch 71/100\n",
            "4/4 [==============================] - 10s 3s/step - loss: 1.0030 - accuracy: 0.4554 - val_loss: 1.2550 - val_accuracy: 0.2941\n",
            "Epoch 72/100\n",
            "4/4 [==============================] - 10s 2s/step - loss: 1.1550 - accuracy: 0.4257 - val_loss: 1.1249 - val_accuracy: 0.2941\n",
            "Epoch 73/100\n",
            "4/4 [==============================] - 10s 2s/step - loss: 1.0363 - accuracy: 0.4158 - val_loss: 1.0689 - val_accuracy: 0.4510\n",
            "Epoch 74/100\n",
            "4/4 [==============================] - 10s 3s/step - loss: 1.0944 - accuracy: 0.4010 - val_loss: 1.1153 - val_accuracy: 0.2941\n",
            "Epoch 75/100\n",
            "4/4 [==============================] - 10s 2s/step - loss: 1.0545 - accuracy: 0.4257 - val_loss: 1.1842 - val_accuracy: 0.2941\n",
            "Epoch 76/100\n",
            "4/4 [==============================] - 10s 2s/step - loss: 1.0401 - accuracy: 0.4158 - val_loss: 1.0328 - val_accuracy: 0.4510\n",
            "Epoch 77/100\n",
            "4/4 [==============================] - 10s 2s/step - loss: 1.0318 - accuracy: 0.3960 - val_loss: 1.0481 - val_accuracy: 0.5490\n",
            "Epoch 78/100\n",
            "4/4 [==============================] - 10s 2s/step - loss: 1.0160 - accuracy: 0.4356 - val_loss: 1.1025 - val_accuracy: 0.5294\n",
            "Epoch 79/100\n",
            "4/4 [==============================] - 10s 2s/step - loss: 1.0242 - accuracy: 0.4505 - val_loss: 1.1254 - val_accuracy: 0.3333\n",
            "Epoch 80/100\n",
            "4/4 [==============================] - 10s 2s/step - loss: 1.0288 - accuracy: 0.5050 - val_loss: 1.0782 - val_accuracy: 0.4510\n",
            "Epoch 81/100\n",
            "4/4 [==============================] - 10s 2s/step - loss: 1.0271 - accuracy: 0.4109 - val_loss: 1.0706 - val_accuracy: 0.5294\n",
            "Epoch 82/100\n",
            "4/4 [==============================] - 10s 2s/step - loss: 1.0097 - accuracy: 0.5149 - val_loss: 1.0632 - val_accuracy: 0.3529\n",
            "Epoch 83/100\n",
            "4/4 [==============================] - 10s 2s/step - loss: 1.0095 - accuracy: 0.4356 - val_loss: 1.0748 - val_accuracy: 0.2941\n",
            "Epoch 84/100\n",
            "4/4 [==============================] - 10s 2s/step - loss: 1.0131 - accuracy: 0.5000 - val_loss: 1.0327 - val_accuracy: 0.5294\n",
            "Epoch 85/100\n",
            "4/4 [==============================] - 10s 2s/step - loss: 1.0124 - accuracy: 0.5594 - val_loss: 1.0788 - val_accuracy: 0.2941\n",
            "Epoch 86/100\n",
            "4/4 [==============================] - 10s 2s/step - loss: 1.0150 - accuracy: 0.4257 - val_loss: 1.0833 - val_accuracy: 0.2941\n",
            "Epoch 87/100\n",
            "4/4 [==============================] - 10s 2s/step - loss: 1.0073 - accuracy: 0.4653 - val_loss: 1.0251 - val_accuracy: 0.4510\n",
            "Epoch 88/100\n",
            "4/4 [==============================] - 10s 2s/step - loss: 1.0207 - accuracy: 0.4158 - val_loss: 1.0615 - val_accuracy: 0.3137\n",
            "Epoch 89/100\n",
            "4/4 [==============================] - 10s 2s/step - loss: 1.0039 - accuracy: 0.4257 - val_loss: 1.0765 - val_accuracy: 0.2941\n",
            "Epoch 90/100\n",
            "4/4 [==============================] - 10s 2s/step - loss: 1.0036 - accuracy: 0.4307 - val_loss: 1.0420 - val_accuracy: 0.5294\n",
            "Epoch 91/100\n",
            "4/4 [==============================] - 10s 2s/step - loss: 1.0277 - accuracy: 0.4059 - val_loss: 1.0449 - val_accuracy: 0.4902\n",
            "Epoch 92/100\n",
            "4/4 [==============================] - 10s 2s/step - loss: 1.0283 - accuracy: 0.3960 - val_loss: 1.0904 - val_accuracy: 0.3725\n",
            "Epoch 93/100\n",
            "4/4 [==============================] - 10s 2s/step - loss: 1.0087 - accuracy: 0.4653 - val_loss: 1.0347 - val_accuracy: 0.4706\n",
            "Epoch 94/100\n",
            "4/4 [==============================] - 10s 2s/step - loss: 0.9950 - accuracy: 0.5000 - val_loss: 1.1439 - val_accuracy: 0.2941\n",
            "Epoch 95/100\n",
            "4/4 [==============================] - 10s 2s/step - loss: 1.0395 - accuracy: 0.4257 - val_loss: 1.0745 - val_accuracy: 0.2941\n",
            "Epoch 96/100\n",
            "4/4 [==============================] - 10s 2s/step - loss: 1.0165 - accuracy: 0.4604 - val_loss: 1.0135 - val_accuracy: 0.4510\n",
            "Epoch 97/100\n",
            "4/4 [==============================] - 10s 2s/step - loss: 1.0024 - accuracy: 0.4604 - val_loss: 1.1471 - val_accuracy: 0.2941\n",
            "Epoch 98/100\n",
            "4/4 [==============================] - 10s 2s/step - loss: 1.0637 - accuracy: 0.4257 - val_loss: 1.1822 - val_accuracy: 0.2941\n",
            "Epoch 99/100\n",
            "4/4 [==============================] - 10s 2s/step - loss: 1.0030 - accuracy: 0.4752 - val_loss: 1.0202 - val_accuracy: 0.4510\n",
            "Epoch 100/100\n",
            "4/4 [==============================] - 10s 2s/step - loss: 1.0703 - accuracy: 0.3812 - val_loss: 1.0114 - val_accuracy: 0.4902\n"
          ]
        }
      ],
      "source": [
        "trained_net=networks.fit(train_ds,train_labels,epochs=100,validation_data=(test_ds,test_labels),batch_size=64)"
      ]
    },
    {
      "cell_type": "markdown",
      "id": "23f4502d",
      "metadata": {
        "id": "23f4502d"
      },
      "source": [
        "\n",
        "\n",
        "```\n",
        "# This is formatted as code\n",
        "```\n",
        "\n",
        "# Unfreeze few convolutional layers in convolutional base"
      ]
    },
    {
      "cell_type": "code",
      "execution_count": null,
      "id": "12fbd64d",
      "metadata": {
        "id": "12fbd64d"
      },
      "outputs": [],
      "source": [
        "base_model=VGG16(weights='imagenet',include_top=False,input_shape=train_images[0].shape)\n",
        "base_model.trainable=False"
      ]
    },
    {
      "cell_type": "code",
      "execution_count": null,
      "id": "a82c650c",
      "metadata": {
        "id": "a82c650c"
      },
      "outputs": [],
      "source": [
        "for layer in base_model.layers[15:]:\n",
        "    layer.trainable=True"
      ]
    },
    {
      "cell_type": "code",
      "execution_count": null,
      "id": "191af9a1",
      "metadata": {
        "colab": {
          "base_uri": "https://localhost:8080/"
        },
        "collapsed": true,
        "id": "191af9a1",
        "outputId": "21980c39-47c7-4fd6-b31c-1ccc17d13307"
      },
      "outputs": [
        {
          "name": "stdout",
          "output_type": "stream",
          "text": [
            "<keras.src.engine.input_layer.InputLayer object at 0x7ee5c80988e0>:False\n",
            "<keras.src.layers.convolutional.conv2d.Conv2D object at 0x7ee5c8098ac0>:False\n",
            "<keras.src.layers.convolutional.conv2d.Conv2D object at 0x7ee5c7cfe080>:False\n",
            "<keras.src.layers.pooling.max_pooling2d.MaxPooling2D object at 0x7ee5c80e8a00>:False\n",
            "<keras.src.layers.convolutional.conv2d.Conv2D object at 0x7ee5c7c671c0>:False\n",
            "<keras.src.layers.convolutional.conv2d.Conv2D object at 0x7ee5c80eafb0>:False\n",
            "<keras.src.layers.pooling.max_pooling2d.MaxPooling2D object at 0x7ee5ac2f49a0>:False\n",
            "<keras.src.layers.convolutional.conv2d.Conv2D object at 0x7ee5c80f8ca0>:False\n",
            "<keras.src.layers.convolutional.conv2d.Conv2D object at 0x7ee5ac320520>:False\n",
            "<keras.src.layers.convolutional.conv2d.Conv2D object at 0x7ee5dbab54e0>:False\n",
            "<keras.src.layers.pooling.max_pooling2d.MaxPooling2D object at 0x7ee5c8082f80>:False\n",
            "<keras.src.layers.convolutional.conv2d.Conv2D object at 0x7ee5c7f137c0>:False\n",
            "<keras.src.layers.convolutional.conv2d.Conv2D object at 0x7ee5dbab4970>:False\n",
            "<keras.src.layers.convolutional.conv2d.Conv2D object at 0x7ee5ac36d2a0>:False\n",
            "<keras.src.layers.pooling.max_pooling2d.MaxPooling2D object at 0x7ee5c7f62230>:False\n",
            "<keras.src.layers.convolutional.conv2d.Conv2D object at 0x7ee5c7f606d0>:True\n",
            "<keras.src.layers.convolutional.conv2d.Conv2D object at 0x7ee5ac36fc70>:True\n",
            "<keras.src.layers.convolutional.conv2d.Conv2D object at 0x7ee5c7c9f2e0>:True\n",
            "<keras.src.layers.pooling.max_pooling2d.MaxPooling2D object at 0x7ee5c82f22c0>:True\n"
          ]
        }
      ],
      "source": [
        "for layer in base_model.layers:\n",
        "    print(\"{}:{}\".format(layer, layer.trainable))"
      ]
    },
    {
      "cell_type": "code",
      "execution_count": null,
      "id": "ed424995",
      "metadata": {
        "id": "ed424995"
      },
      "outputs": [],
      "source": [
        "model=models.Sequential([\n",
        "    base_model,\n",
        "    flatten_layer,\n",
        "    dense_1,\n",
        "    dense_2,\n",
        "    pred_layer\n",
        "])\n"
      ]
    },
    {
      "cell_type": "code",
      "execution_count": null,
      "id": "00d2f2eb",
      "metadata": {
        "id": "00d2f2eb"
      },
      "outputs": [],
      "source": [
        "model.summary()"
      ]
    },
    {
      "cell_type": "code",
      "execution_count": null,
      "id": "96511949",
      "metadata": {
        "id": "96511949"
      },
      "outputs": [],
      "source": [
        "model.compile(optimizer='adam',\n",
        "             loss='sparse_categorical_crossentropy',\n",
        "              metrics=['accuracy'],\n",
        "             )"
      ]
    },
    {
      "cell_type": "code",
      "execution_count": null,
      "id": "3f0b6d1c",
      "metadata": {
        "colab": {
          "base_uri": "https://localhost:8080/"
        },
        "id": "3f0b6d1c",
        "outputId": "42b64927-57d4-4517-ceaf-190372896c0c"
      },
      "outputs": [
        {
          "name": "stdout",
          "output_type": "stream",
          "text": [
            "Epoch 1/5\n",
            "4/4 [==============================] - 155s 39s/step - loss: 1.6601 - accuracy: 0.3020 - val_loss: 1.8040 - val_accuracy: 0.2941\n",
            "Epoch 2/5\n",
            "4/4 [==============================] - 149s 39s/step - loss: 1.5579 - accuracy: 0.4208 - val_loss: 1.6595 - val_accuracy: 0.4510\n",
            "Epoch 3/5\n",
            "4/4 [==============================] - 137s 34s/step - loss: 1.3425 - accuracy: 0.3812 - val_loss: 1.1189 - val_accuracy: 0.4510\n",
            "Epoch 4/5\n",
            "4/4 [==============================] - 138s 35s/step - loss: 1.2710 - accuracy: 0.2723 - val_loss: 1.1819 - val_accuracy: 0.2941\n",
            "Epoch 5/5\n",
            "4/4 [==============================] - 151s 38s/step - loss: 1.1808 - accuracy: 0.4257 - val_loss: 1.4590 - val_accuracy: 0.2941\n"
          ]
        }
      ],
      "source": [
        "trained_model=model.fit(train_ds,train_labels, epochs=5, validation_data=(test_ds,test_labels),batch_size=64)"
      ]
    },
    {
      "cell_type": "markdown",
      "id": "d6a0acef",
      "metadata": {
        "id": "d6a0acef"
      },
      "source": [
        "plot accuracy curves"
      ]
    },
    {
      "cell_type": "code",
      "execution_count": null,
      "id": "748c9052",
      "metadata": {
        "id": "748c9052"
      },
      "outputs": [],
      "source": [
        "import matplotlib.pyplot as plt\n",
        "plt.plot(trained_model.history['accuracy'],label='Training Accuracy')\n",
        "plt.plot(trained_model.history['val_accuracy'],label='Validation Accuracy')\n",
        "plt.xlabel('Epoch')\n",
        "plt.ylabel('Accuracy')\n",
        "plt.ylim([0,1.1])\n",
        "plt.legend(loc='lower right')"
      ]
    },
    {
      "cell_type": "markdown",
      "id": "ca45bbaa",
      "metadata": {
        "id": "ca45bbaa"
      },
      "source": [
        "plot loss curves"
      ]
    },
    {
      "cell_type": "code",
      "execution_count": null,
      "id": "d67ee645",
      "metadata": {
        "id": "d67ee645"
      },
      "outputs": [],
      "source": [
        "plt.plot(trained_model.history['loss'],label='Training Loss')\n",
        "plt.plot(trained_model.history['val_loss'],label='Validation Loss')\n",
        "plt.xlabel('Epoch')\n",
        "plt.ylabel('Loss')\n",
        "plt.legend(loc='upper right')"
      ]
    },
    {
      "cell_type": "code",
      "execution_count": null,
      "id": "kMasx-MBW7XJ",
      "metadata": {
        "id": "kMasx-MBW7XJ"
      },
      "outputs": [],
      "source": [
        "plt.plot(trained_net.history['accuracy'],label='Training Accuracy')\n",
        "plt.plot(trained_net.history['val_accuracy'],label='Validation Accuracy')\n",
        "plt.xlabel('Epoch')\n",
        "plt.ylabel('Accuracy')\n",
        "plt.ylim([0,1.1])\n",
        "plt.legend(loc='lower right')"
      ]
    },
    {
      "cell_type": "code",
      "execution_count": null,
      "id": "74gfy1R1XCXN",
      "metadata": {
        "id": "74gfy1R1XCXN"
      },
      "outputs": [],
      "source": [
        "plt.plot(trained_net.history['loss'],label='Training Loss')\n",
        "plt.plot(trained_net.history['val_loss'],label='Validation Loss')\n",
        "plt.xlabel('Epoch')\n",
        "plt.ylabel('Loss')\n",
        "plt.legend(loc='upper right')"
      ]
    }
  ],
  "metadata": {
    "colab": {
      "provenance": []
    },
    "kernelspec": {
      "display_name": "Python 3",
      "language": "python",
      "name": "python3"
    },
    "language_info": {
      "codemirror_mode": {
        "name": "ipython",
        "version": 3
      },
      "file_extension": ".py",
      "mimetype": "text/x-python",
      "name": "python",
      "nbconvert_exporter": "python",
      "pygments_lexer": "ipython3",
      "version": "3.11.5"
    }
  },
  "nbformat": 4,
  "nbformat_minor": 5
}

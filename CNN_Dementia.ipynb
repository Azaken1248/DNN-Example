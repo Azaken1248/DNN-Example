{
  "cells": [
    {
      "cell_type": "markdown",
      "id": "51cd5ab9",
      "metadata": {
        "id": "51cd5ab9"
      },
      "source": [
        "# CNN implementation on Dementia Dataset"
      ]
    },
    {
      "cell_type": "code",
      "execution_count": 1,
      "id": "c1af04a8",
      "metadata": {
        "id": "c1af04a8"
      },
      "outputs": [],
      "source": [
        "import numpy as np\n",
        "import tensorflow as tf\n",
        "from tensorflow.keras import datasets, layers, models\n",
        "import matplotlib.pyplot as plt\n",
        "from sklearn import metrics\n",
        "from sklearn.model_selection import train_test_split\n",
        "import cv2 as cv\n",
        "import os, sys"
      ]
    },
    {
      "cell_type": "code",
      "execution_count": 41,
      "id": "a821ed6a",
      "metadata": {
        "id": "a821ed6a"
      },
      "outputs": [],
      "source": [
        "path1='/content/drive/MyDrive/Alzheimer Dataset/NonDemented'\n",
        "path2='/content/drive/MyDrive/Alzheimer Dataset/MildDemented'\n",
        "path3='//content/drive/MyDrive/Alzheimer Dataset/ModerateDemented'\n",
        "files1=os.listdir(path1)\n",
        "files2=os.listdir(path2)\n",
        "files3=os.listdir(path3)\n",
        "Num_files_N=len(files1)\n",
        "Num_files_MD=len(files2)\n",
        "Num_files_D=len(files3)\n",
        "dataset_len=Num_files_N+Num_files_MD+Num_files_D"
      ]
    },
    {
      "cell_type": "code",
      "source": [
        "len(files3)\n"
      ],
      "metadata": {
        "id": "QT0gHQYA4K18"
      },
      "id": "QT0gHQYA4K18",
      "execution_count": null,
      "outputs": []
    },
    {
      "cell_type": "markdown",
      "id": "29252846",
      "metadata": {
        "id": "29252846"
      },
      "source": [
        "# Dataset Creation"
      ]
    },
    {
      "cell_type": "markdown",
      "id": "f7cdb862",
      "metadata": {
        "id": "f7cdb862"
      },
      "source": [
        "For every file\n",
        "\n",
        "1. Read the image\n",
        "2. Convert it to grayscale (Optional)\n",
        "3. Resize to (100,100)\n",
        "4. Preprocessing: Normalization\n",
        "5. Reshape to (100,100,1)\n",
        "6. Create the dataset"
      ]
    },
    {
      "cell_type": "code",
      "execution_count": null,
      "id": "2ead1101",
      "metadata": {
        "collapsed": true,
        "id": "2ead1101"
      },
      "outputs": [],
      "source": [
        "data=np.zeros((dataset_len,100,100,1))\n",
        "label=[]\n",
        "data.shape"
      ]
    },
    {
      "cell_type": "code",
      "execution_count": 56,
      "id": "24314cc2",
      "metadata": {
        "id": "24314cc2"
      },
      "outputs": [],
      "source": [
        "for i in range(Num_files_N):\n",
        "    name=path1+'/'+files1[i]\n",
        "    img=cv.imread(name)\n",
        "    img_gs=cv.cvtColor(img,cv.COLOR_RGB2GRAY)\n",
        "    img_gs=cv.resize(img_gs,(100,100))\n",
        "    img_gs=img_gs/255\n",
        "    img_gs=img_gs.reshape(100,100,1)\n",
        "    data[i,:,:]=img_gs\n",
        "    label.append('Normal')\n",
        ""
      ]
    },
    {
      "cell_type": "code",
      "execution_count": null,
      "id": "6b5ac2af",
      "metadata": {
        "collapsed": true,
        "id": "6b5ac2af"
      },
      "outputs": [],
      "source": [
        "plt.imshow(data[99],cmap='gray')"
      ]
    },
    {
      "cell_type": "code",
      "execution_count": null,
      "id": "b32b0be4",
      "metadata": {
        "collapsed": true,
        "id": "b32b0be4",
        "outputId": "13b22b88-4ffd-414a-ba86-4773800daf57"
      },
      "outputs": [
        {
          "data": {
            "text/plain": [
              "<matplotlib.image.AxesImage at 0x205527dea30>"
            ]
          },
          "execution_count": 9,
          "metadata": {},
          "output_type": "execute_result"
        },
        {
          "data": {
            "image/png": "[encoded data removed]",
            "text/plain": [
              "<Figure size 432x288 with 1 Axes>"
            ]
          },
          "metadata": {
            "needs_background": "light"
          },
          "output_type": "display_data"
        }
      ],
      "source": [
        "plt.imshow(data[100],cmap='gray')"
      ]
    },
    {
      "cell_type": "code",
      "source": [
        "for i in range(Num_files_MD):\n",
        "    name=path2+'/'+files2[i]\n",
        "    img=cv.imread(name)\n",
        "    img_gs=cv.cvtColor(img,cv.COLOR_RGB2GRAY)\n",
        "    img_gs=cv.resize(img_gs,(100,100))\n",
        "    img_gs=img_gs/255\n",
        "    img_gs=img_gs.reshape(100,100,1)\n",
        "    data[i+Num_files_N,:,:]=img_gs\n",
        "    label.append('Mild Dementia')"
      ],
      "metadata": {
        "id": "YhCjXaqDxY6n"
      },
      "id": "YhCjXaqDxY6n",
      "execution_count": 58,
      "outputs": []
    },
    {
      "cell_type": "code",
      "execution_count": 59,
      "id": "b9df95c2",
      "metadata": {
        "id": "b9df95c2"
      },
      "outputs": [],
      "source": [
        "for i in range(Num_files_D):\n",
        "    name=path3+'/'+files3[i]\n",
        "    img=cv.imread(name)\n",
        "    img_gs=cv.cvtColor(img,cv.COLOR_RGB2GRAY)\n",
        "    img_gs=cv.resize(img_gs,(100,100))\n",
        "    img_gs=img_gs/255\n",
        "    img_gs=img_gs.reshape(100,100,1)\n",
        "    data[i+Num_files_N+Num_files_MD,:,:]=img_gs\n",
        "    label.append('Dementia')\n",
        ""
      ]
    },
    {
      "cell_type": "code",
      "execution_count": null,
      "id": "04c95186",
      "metadata": {
        "collapsed": true,
        "id": "04c95186"
      },
      "outputs": [],
      "source": [
        "plt.imshow(data[100],cmap='gray')"
      ]
    },
    {
      "cell_type": "markdown",
      "id": "a0ee2e56",
      "metadata": {
        "id": "a0ee2e56"
      },
      "source": [
        "Label Encoding"
      ]
    },
    {
      "cell_type": "code",
      "execution_count": 60,
      "id": "ab8c94e7",
      "metadata": {
        "id": "ab8c94e7"
      },
      "outputs": [],
      "source": [
        "from sklearn.preprocessing import LabelEncoder\n",
        "le=LabelEncoder()\n",
        "lab=le.fit_transform(label)"
      ]
    },
    {
      "cell_type": "code",
      "execution_count": null,
      "id": "2869770e",
      "metadata": {
        "collapsed": true,
        "id": "2869770e"
      },
      "outputs": [],
      "source": [
        "label"
      ]
    },
    {
      "cell_type": "code",
      "execution_count": null,
      "id": "1af2bd04",
      "metadata": {
        "collapsed": true,
        "id": "1af2bd04"
      },
      "outputs": [],
      "source": [
        "lab"
      ]
    },
    {
      "cell_type": "markdown",
      "id": "3536af9f",
      "metadata": {
        "id": "3536af9f"
      },
      "source": [
        "Train and test dataset spilt"
      ]
    },
    {
      "cell_type": "code",
      "execution_count": 61,
      "id": "0e55f94c",
      "metadata": {
        "id": "0e55f94c"
      },
      "outputs": [],
      "source": [
        "train_images,test_images,train_labels,test_labels=train_test_split(data,lab,test_size=0.2,random_state=1)"
      ]
    },
    {
      "cell_type": "code",
      "execution_count": null,
      "id": "001342f9",
      "metadata": {
        "id": "001342f9"
      },
      "outputs": [],
      "source": [
        "print('Train Dataset Size:',np.size(train_labels))\n",
        "print('Test Dataset Size:',np.size(test_labels))"
      ]
    },
    {
      "cell_type": "markdown",
      "id": "33a6d409",
      "metadata": {
        "id": "33a6d409"
      },
      "source": [
        "# Define the CNN architecture"
      ]
    },
    {
      "cell_type": "markdown",
      "id": "73ab126f",
      "metadata": {
        "id": "73ab126f"
      },
      "source": [
        "Create the convolutional base\n",
        "\n",
        "1. Convolutional : 32 filters 3x3\n",
        "2. Maxpooling: 2x2\n",
        "3. Convolutional : 64 filters 5x5\n",
        "4. Convolutional : 32 filters 3x3\n",
        "5. Maxpooling: 3x3\n"
      ]
    },
    {
      "cell_type": "code",
      "execution_count": 63,
      "id": "01322894",
      "metadata": {
        "id": "01322894"
      },
      "outputs": [],
      "source": [
        "network=models.Sequential()\n",
        "network.add(layers.Conv2D(32,(3,3),activation='relu', input_shape=(100,100,1)))\n",
        "network.add(layers.MaxPooling2D((2,2)))\n",
        "network.add(layers.Conv2D(64,(7,7),activation='relu'))\n",
        "network.add(layers.Conv2D(32,(3,3),activation='relu'))\n",
        "network.add(layers.MaxPooling2D((3,3)))"
      ]
    },
    {
      "cell_type": "markdown",
      "id": "0fa63e7a",
      "metadata": {
        "id": "0fa63e7a"
      },
      "source": [
        "Check summary of convolutional base"
      ]
    },
    {
      "cell_type": "code",
      "execution_count": null,
      "id": "0e8ac882",
      "metadata": {
        "id": "0e8ac882"
      },
      "outputs": [],
      "source": [
        "network.summary()"
      ]
    },
    {
      "cell_type": "markdown",
      "id": "7e49eab1",
      "metadata": {
        "id": "7e49eab1"
      },
      "source": [
        "Build the classifier on top of the convolutional base"
      ]
    },
    {
      "cell_type": "code",
      "execution_count": 78,
      "id": "99a58d24",
      "metadata": {
        "id": "99a58d24"
      },
      "outputs": [],
      "source": [
        "network.add(layers.Flatten())\n",
        "network.add(layers.Dense(80,activation='relu'))\n",
        "network.add(layers.Dense(50,activation='relu'))\n",
        "network.add(layers.Dense(3,activation='softmax'))"
      ]
    },
    {
      "cell_type": "code",
      "execution_count": null,
      "id": "7f7ba93f",
      "metadata": {
        "collapsed": true,
        "id": "7f7ba93f"
      },
      "outputs": [],
      "source": [
        "network.summary()"
      ]
    },
    {
      "cell_type": "markdown",
      "id": "bf809688",
      "metadata": {
        "id": "bf809688"
      },
      "source": [
        "Compile and train the model"
      ]
    },
    {
      "cell_type": "code",
      "execution_count": 82,
      "id": "226df6b8",
      "metadata": {
        "id": "226df6b8"
      },
      "outputs": [],
      "source": [
        "network.compile(optimizer='sgd',loss='sparse_categorical_crossentropy',metrics=['accuracy'])"
      ]
    },
    {
      "cell_type": "code",
      "source": [
        "test_labels"
      ],
      "metadata": {
        "id": "BVTL71MYyeFe"
      },
      "id": "BVTL71MYyeFe",
      "execution_count": null,
      "outputs": []
    },
    {
      "cell_type": "code",
      "execution_count": null,
      "id": "a02dcf5a",
      "metadata": {
        "id": "a02dcf5a"
      },
      "outputs": [],
      "source": [
        "trained_network=network.fit(train_images,train_labels,epochs=10,validation_data=(test_images,test_labels))"
      ]
    },
    {
      "cell_type": "code",
      "source": [
        "train_labels.shape"
      ],
      "metadata": {
        "id": "Sx-oC71U5gNA"
      },
      "id": "Sx-oC71U5gNA",
      "execution_count": null,
      "outputs": []
    },
    {
      "cell_type": "code",
      "execution_count": null,
      "id": "e5039efe",
      "metadata": {
        "id": "e5039efe"
      },
      "outputs": [],
      "source": [
        "plt.plot(trained_network.history['accuracy'],label='Training Accuracy')\n",
        "plt.plot(trained_network.history['val_accuracy'],label='Validation Accuracy')\n",
        "plt.xlabel('Epoch')\n",
        "plt.ylabel('Accuracy')\n",
        "plt.ylim([0,1.1])\n",
        "plt.legend(loc='lower right')"
      ]
    },
    {
      "cell_type": "code",
      "execution_count": null,
      "id": "44db3a23",
      "metadata": {
        "id": "44db3a23"
      },
      "outputs": [],
      "source": [
        "plt.plot(trained_network.history['loss'],label='Training Loss')\n",
        "plt.plot(trained_network.history['val_loss'],label='Validation Loss')\n",
        "plt.xlabel('Epoch')\n",
        "plt.ylabel('Loss')\n",
        "plt.legend(loc='upper right')"
      ]
    },
    {
      "cell_type": "markdown",
      "id": "656e1c17",
      "metadata": {
        "id": "656e1c17"
      },
      "source": [
        "Evaluate the network"
      ]
    },
    {
      "cell_type": "code",
      "execution_count": null,
      "id": "2476b8e5",
      "metadata": {
        "collapsed": true,
        "id": "2476b8e5"
      },
      "outputs": [],
      "source": [
        "test_loss,test_acc=network.evaluate(test_images,test_labels)"
      ]
    },
    {
      "cell_type": "code",
      "execution_count": null,
      "id": "aa6cec7b",
      "metadata": {
        "id": "aa6cec7b"
      },
      "outputs": [],
      "source": [
        "y_predict=network.predict(test_images)"
      ]
    },
    {
      "cell_type": "code",
      "execution_count": 90,
      "id": "cb5ef5da",
      "metadata": {
        "id": "cb5ef5da"
      },
      "outputs": [],
      "source": [
        "y_pred=[]\n",
        "for val in y_predict:\n",
        "    y_pred.append(np.argmax(val))"
      ]
    },
    {
      "cell_type": "code",
      "execution_count": null,
      "id": "51b9d88d",
      "metadata": {
        "id": "51b9d88d"
      },
      "outputs": [],
      "source": [
        "print(metrics.confusion_matrix(test_labels,y_pred))"
      ]
    },
    {
      "cell_type": "code",
      "execution_count": null,
      "id": "cce68d11",
      "metadata": {
        "scrolled": true,
        "id": "cce68d11"
      },
      "outputs": [],
      "source": [
        "print(metrics.accuracy_score(test_labels,y_pred))"
      ]
    }
  ],
  "metadata": {
    "kernelspec": {
      "display_name": "Python 3",
      "language": "python",
      "name": "python3"
    },
    "language_info": {
      "codemirror_mode": {
        "name": "ipython",
        "version": 3
      },
      "file_extension": ".py",
      "mimetype": "text/x-python",
      "name": "python",
      "nbconvert_exporter": "python",
      "pygments_lexer": "ipython3",
      "version": "3.8.8"
    },
    "colab": {
      "provenance": []
    }
  },
  "nbformat": 4,
  "nbformat_minor": 5
}